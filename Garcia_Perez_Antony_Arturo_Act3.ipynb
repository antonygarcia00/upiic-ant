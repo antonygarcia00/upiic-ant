{
  "nbformat": 4,
  "nbformat_minor": 0,
  "metadata": {
    "colab": {
      "provenance": [],
      "authorship_tag": "ABX9TyMkUpRdT3BG192oGB1NwFQP",
      "include_colab_link": true
    },
    "kernelspec": {
      "name": "python3",
      "display_name": "Python 3"
    },
    "language_info": {
      "name": "python"
    }
  },
  "cells": [
    {
      "cell_type": "markdown",
      "metadata": {
        "id": "view-in-github",
        "colab_type": "text"
      },
      "source": [
        "<a href=\"https://colab.research.google.com/github/antonygarcia00/upiic-ant/blob/main/Garcia_Perez_Antony_Arturo_Act3.ipynb\" target=\"_parent\"><img src=\"https://colab.research.google.com/assets/colab-badge.svg\" alt=\"Open In Colab\"/></a>"
      ]
    },
    {
      "cell_type": "markdown",
      "source": [
        "### 10 Ejemplos del texto 1.2 Introducción a *Python*"
      ],
      "metadata": {
        "id": "H_ONAKBrQst8"
      }
    },
    {
      "cell_type": "code",
      "execution_count": null,
      "metadata": {
        "colab": {
          "base_uri": "https://localhost:8080/"
        },
        "id": "y1gkppKCuV70",
        "outputId": "e9ae0d8c-a9f4-45c9-de55-f3c618fa042e"
      },
      "outputs": [
        {
          "output_type": "stream",
          "name": "stdout",
          "text": [
            "3\n",
            "221b Baker Street, NW1 6XE, London\n",
            "{'age': 45, 'role': 'CTO', 'SSN': 'AB1234567'}\n"
          ]
        }
      ],
      "source": [
        "n = 3 # Definimos el la variable n un numero entero\n",
        "address = \"221b Baker Street, NW1 6XE, London\" # guardamos una direccion en la variable adress\n",
        "employee = {\n",
        "    'age': 45,\n",
        "    'role': 'CTO',\n",
        "    'SSN': 'AB1234567',\n",
        "    } # Por último guardamos en la variable employee\n",
        "# Ahora los imprmimos todos\n",
        "print(n)\n",
        "print(address)\n",
        "print(employee)\n"
      ]
    },
    {
      "cell_type": "code",
      "source": [
        "# Si intentamos imprmir algo que no esta definido anteriormente, nos saltara un error\n",
        " print(otronombre) # El propósito de este es que nos muestre un error\n",
        "# En este caso, no se encuentra la variable que intenamos imprimir, pues no esta definida"
      ],
      "metadata": {
        "id": "GnRB_Jy2wYJg",
        "colab": {
          "base_uri": "https://localhost:8080/",
          "height": 140
        },
        "outputId": "5d84792f-1389-4b13-f665-fcb9159a3dad"
      },
      "execution_count": 128,
      "outputs": [
        {
          "output_type": "error",
          "ename": "IndentationError",
          "evalue": "ignored",
          "traceback": [
            "\u001b[0;36m  File \u001b[0;32m\"<ipython-input-128-9d9eb8ddfe02>\"\u001b[0;36m, line \u001b[0;32m2\u001b[0m\n\u001b[0;31m    print(otronombre) # El propósito de este es que nos muestre un error\u001b[0m\n\u001b[0m    ^\u001b[0m\n\u001b[0;31mIndentationError\u001b[0m\u001b[0;31m:\u001b[0m unexpected indent\n"
          ]
        }
      ]
    },
    {
      "cell_type": "code",
      "source": [
        "# Para detectar los tipos de datos que fueron guardados en cada variable se puede utilizar la funcion type\n",
        "print(type(n))\n",
        "print(type(address))\n",
        "print(type(employee))"
      ],
      "metadata": {
        "colab": {
          "base_uri": "https://localhost:8080/"
        },
        "id": "4TqJUScSwZs7",
        "outputId": "80af7524-12d2-4674-c346-6b9b459ede03"
      },
      "execution_count": null,
      "outputs": [
        {
          "output_type": "stream",
          "name": "stdout",
          "text": [
            "<class 'int'>\n",
            "<class 'str'>\n",
            "<class 'dict'>\n"
          ]
        }
      ]
    },
    {
      "cell_type": "code",
      "source": [
        "def local():\n",
        "  m = 7\n",
        "  print(m)\n",
        "# definimos la variable m dentro de la apartado global\n",
        "m = 5\n",
        "# ahorta llamamos la variable m desde la funcion local\n",
        "local()\n",
        "print(m)"
      ],
      "metadata": {
        "colab": {
          "base_uri": "https://localhost:8080/"
        },
        "id": "NqyLYFQNyEFc",
        "outputId": "3435fffe-2db1-4432-9b25-a835a5aaf3b4"
      },
      "execution_count": null,
      "outputs": [
        {
          "output_type": "stream",
          "name": "stdout",
          "text": [
            "7\n",
            "5\n"
          ]
        }
      ]
    },
    {
      "cell_type": "code",
      "source": [
        "def local():\n",
        "  # Ahora vemos de manera mas clara como es que se comportan los llamados de Python,\n",
        "  # ademas de que en caso de que dentro de la funcion no le sea asignado un valor\n",
        "  # a m python sigue tomando el asignado en el scope global\n",
        "  # m = 10\n",
        "  print(m, 'Imprimiendo desde el local scope')\n",
        "m = 5\n",
        "print(m, 'Imprimiendo desde el global scope')\n",
        "local()"
      ],
      "metadata": {
        "colab": {
          "base_uri": "https://localhost:8080/"
        },
        "id": "KoDWCmRPyzMS",
        "outputId": "590eac32-0a78-420e-95c5-0e5c67063275"
      },
      "execution_count": null,
      "outputs": [
        {
          "output_type": "stream",
          "name": "stdout",
          "text": [
            "5 Imprimiendo desde el global scope\n",
            "5 Imprimiendo desde el local scope\n"
          ]
        }
      ]
    },
    {
      "cell_type": "code",
      "source": [
        "def enclosing_func():\n",
        "  m = 13\n",
        "  def local():\n",
        "# vemos de igual manera como es que m no esta definido dentro de la funcion local\n",
        "# vemos como python lo toma directamente del la scope directamente consecutiva\n",
        "    print(m, 'Imprimiendo desde el local scope')\n",
        "# calling the function local\n",
        "  local()\n",
        "m = 5\n",
        "print(m, 'Imprimiendo desde el global scope')\n",
        "enclosing_func()"
      ],
      "metadata": {
        "colab": {
          "base_uri": "https://localhost:8080/"
        },
        "id": "MpJ3o0MA0jvG",
        "outputId": "ba72e54c-9a52-4d72-c2f1-53f9ff403b74"
      },
      "execution_count": null,
      "outputs": [
        {
          "output_type": "stream",
          "name": "stdout",
          "text": [
            "5 Imprimiendo desde el global scope\n",
            "13 Imprimiendo desde el local scope\n"
          ]
        }
      ]
    },
    {
      "cell_type": "code",
      "source": [
        "class Bike:\n",
        "  def __init__(self, colour, frame_material): # Aqui podemos ver por primera vez el uso del método __init__, el cual funciona como inicializador\n",
        "    self.colour = colour\n",
        "    self.frame_material = frame_material\n",
        "  def brake(self):\n",
        "    print(\"Frenando!\")\n",
        "# Aqui creamos algunas instancias u \"objetos\"\n",
        "cara_bike = Bike('Rojo', 'Fibra de carbono')\n",
        "barata_bike = Bike('Azul', 'Acero')\n",
        "# Ahora llamamos algunas de las instancias de los obhjetos de la clase Bike\n",
        "print(cara_bike.colour) # imprimimos el color de la bicicleta cara\n",
        "print(cara_bike.frame_material) # imprimimos el material de la bicicleta cara\n",
        "print(barata_bike.colour) # imprimimos el color de la bicicleta barata\n",
        "print(barata_bike.frame_material) # imprimimos el material de la bicicleta barata\n",
        "# Ahora hacemos frenar a la bicibleta cara\n",
        "cara_bike.brake()"
      ],
      "metadata": {
        "colab": {
          "base_uri": "https://localhost:8080/"
        },
        "id": "HgIMH7fU1n7b",
        "outputId": "01f1b4fc-e958-4a78-d475-1c7fa23f28b5"
      },
      "execution_count": null,
      "outputs": [
        {
          "output_type": "stream",
          "name": "stdout",
          "text": [
            "Rojo\n",
            "Fibra de carbono\n",
            "Azul\n",
            "Acero\n",
            "Frenando!\n"
          ]
        }
      ]
    },
    {
      "cell_type": "code",
      "source": [
        "# Ahora vemos la diferencia dentro los objetos mutables y los no mutables\n",
        "class Person: #creamos una clase simple donde guardamos la clase persona para usarla despues\n",
        "  def __init__(self, age):\n",
        "    self.age = age\n",
        "\n",
        "fab = Person(age=42) #Asignamos a la variable fab edad, creando dos ID's\n",
        "print(fab.age)\n",
        "\n",
        "print(id(fab)) # Ahora llamamos al ID de la variable fab, vemos como esta tiene terminacion 6464\n",
        "print(id(fab.age)) # Ahora llamamos al ID de la edad de la variable fab, vemos como esta tiene terminacion 7616\n",
        "\n",
        "fab.age = 25 # CAmbiamos la edad de fab y vemos lo que pasa\n",
        "print(fab.age)\n",
        "print(id(fab)) # La ID de fab es la misma que hace un momento con 6464\n",
        "print(id(fab.age)) # Ahora vemos que la ID cambia a la de hace un momento con 7616 ahora es 7072"
      ],
      "metadata": {
        "colab": {
          "base_uri": "https://localhost:8080/"
        },
        "id": "t2f-qNdd3s-9",
        "outputId": "5cf42341-a9b1-4f1c-ba48-399cfa1b5fa4"
      },
      "execution_count": null,
      "outputs": [
        {
          "output_type": "stream",
          "name": "stdout",
          "text": [
            "42\n",
            "138029289495408\n",
            "138030559577616\n",
            "25\n",
            "138029289495408\n",
            "138030559577072\n"
          ]
        }
      ]
    },
    {
      "cell_type": "code",
      "source": [
        "a = 14\n",
        "b = 3\n",
        "print(a + b) # Vemos un ejemplo de suma de las variables a y b\n",
        "print(a - b) # Vemos un ejemplo de resta de las variables a y b\n",
        "print(a * b) # Vemos un ejemplo de multiplicacion de las variables a y b\n",
        "print(a / b) # Vemos un ejemplo de division de las variables a y b\n",
        "print(a // b) # Obtenemos el entero de la division entre de las variables a y b\n",
        "print(a % b) # Obtenemos el residuo de la division entre de las variables a y b\n",
        "print(a ** b) # Vemos un ejemplo de potencia de las variables a y b\n",
        "\n",
        "print(7 / 4) # Vemos un ejemplo de division entre dos numeros aqui definidos\n",
        "\n",
        "print(7 // 4) #Obtenemos el residuo de la division entre dos numeros aqui definidos\n",
        "\n",
        "print(-7 / 4) # Vemos un ejemplo de division entre dos numeros aqui definidos, en este caso con numeros negativos\n",
        "print(-7 // 4) #Obtenemos el residuo de la division entre dos numeros aqui definidos, con num negativos\n",
        "\n",
        "print(int(1.75))\n",
        "print(int(-1.75))\n",
        "# imprmimos solo el entero del valor anterior\n",
        "\n",
        "print(pow(10, 3))\n",
        "# Obtenemos el resutlado de la potencia de los num de manera flotante\n",
        "10 ** 3\n",
        "# Obtenemos el resutlado de la potencia de los num de manera entero\n",
        "print(pow(10, -3))\n",
        "print(10 ** -3)\n",
        "# Otros dos ejemplos de potencia\n",
        "\n",
        "print(10 % 3)\n",
        "print(10 % 4)\n",
        "# Una manera diferente de llamar al residuo de la division\n",
        "\n",
        "print(pow(123, 4, 100))\n",
        "# Obtenemos el residuo de dividir la potencia de 123 a la 4 entre 100\n",
        "\n",
        "# Iniciamos en el caso de los numeros booleanos\n",
        "print(int(True)) # observamos que true se comporta como 1\n",
        "\n",
        "print(int(False)) # observamos que false se comporta como 0\n",
        "print(bool(1)) # Se evalua que 1 es relativo a True\n",
        "print(bool(-42)) # Y asi con cualquier numero distinto a 0\n",
        "\n",
        "print(bool(0)) # Se evalua que 0 es relativo a False\n",
        "# Rápida revision de los operadores logicos\n",
        "print(not True)\n",
        "\n",
        "print(not False)\n",
        "\n",
        "print(True and True)\n",
        "\n",
        "print(False or True)\n",
        "\n",
        "# Tambien podemos usar los valores booleanos para sumar y restar\n",
        "print(1 + True)\n",
        "\n",
        "print(False + 42)\n",
        "\n",
        "print(7 - True)\n",
        "\n"
      ],
      "metadata": {
        "colab": {
          "base_uri": "https://localhost:8080/"
        },
        "id": "sk12Dpkj58jh",
        "outputId": "9a757383-bd0b-426b-b4b5-d7f4b6ef4fef"
      },
      "execution_count": null,
      "outputs": [
        {
          "output_type": "stream",
          "name": "stdout",
          "text": [
            "17\n",
            "11\n",
            "42\n",
            "4.666666666666667\n",
            "4\n",
            "2\n",
            "2744\n",
            "1.75\n",
            "1\n",
            "-1.75\n",
            "-2\n",
            "1\n",
            "-1\n",
            "1000\n",
            "0.001\n",
            "0.001\n",
            "1\n",
            "2\n",
            "41\n",
            "1\n",
            "0\n",
            "True\n",
            "True\n",
            "False\n",
            "False\n",
            "True\n",
            "True\n",
            "True\n",
            "2\n",
            "42\n",
            "6\n"
          ]
        }
      ]
    },
    {
      "cell_type": "code",
      "source": [
        "greet_old = 'Hello %s!'\n",
        "print(greet_old % 'Fabrizio')\n",
        "# Se deja un espacio para agregar un valor tipo string en el mensaje\n",
        "\n",
        "greet_positional = 'Hello {}!'\n",
        "print(greet_positional.format('Fabrizio'))\n",
        "# Se deja un espacio entre llaves para ingresarlo despues\n",
        "\n",
        "reet_positional = 'Hello {} {}!'\n",
        "print(greet_positional.format('Fabrizio', 'Romano'))\n",
        "# Se deja un espacio entre llaves para ingresarlo despues, en este caso siendo dos llaves\n",
        "\n",
        "greet_positional_idx = 'This is {0}! {1} loves {0}!'\n",
        "print(greet_positional_idx.format('Python', 'Heinrich'))\n",
        "# Ahora se dejan numerales para enumerar los corchetes y asi identificarlos\n",
        "\n",
        "greet_positional_idx.format('Coffee', 'Fab')\n",
        "# Se ve otro ejemplo con diferentes palabras\n",
        "\n",
        "keyword = 'Hello, my name is {name} {last_name}'\n",
        "print(keyword.format(name='Antony', last_name='Garcia'))\n",
        "# Observamos otra manera diferente de escribir nuestros valores dentro de una cadena string"
      ],
      "metadata": {
        "colab": {
          "base_uri": "https://localhost:8080/"
        },
        "id": "aHOVg0z3-BJX",
        "outputId": "d13f369f-b0d5-4584-91f8-a6225d398111"
      },
      "execution_count": null,
      "outputs": [
        {
          "output_type": "stream",
          "name": "stdout",
          "text": [
            "Hello Fabrizio!\n",
            "Hello Fabrizio!\n",
            "Hello Fabrizio!\n",
            "This is Python! Heinrich loves Python!\n",
            "Hello, my name is Antony Garcia\n"
          ]
        }
      ]
    },
    {
      "cell_type": "markdown",
      "source": [
        "### 10 Ejemplos del texto 1.3 Importación datos Python"
      ],
      "metadata": {
        "id": "aoAxSUDrQ4Ck"
      }
    },
    {
      "cell_type": "code",
      "source": [
        "fh = open('fear.txt', 'rt')\n",
        "try:\n",
        "  for line in fh.readlines():\n",
        "    print(line.strip())\n",
        "finally:\n",
        "  fh.close()\n",
        "# Vemos como es que se usa la funcion open para poder abrir el archivo de nombre fear.txt"
      ],
      "metadata": {
        "colab": {
          "base_uri": "https://localhost:8080/"
        },
        "id": "sYFJVXMwQrcq",
        "outputId": "b23aac81-9632-45c4-af9a-bb943f99773f"
      },
      "execution_count": null,
      "outputs": [
        {
          "output_type": "stream",
          "name": "stdout",
          "text": [
            "An excerpt from Fear - By Thich Nhat Hanh\n",
            "\n",
            "The Present Is Free from Fear\n",
            "\n",
            "When we are not fully present, we are not really living. We’re not really there, either for our loved ones or for ourselves. If we’re not there, then where are we? We are running, running, running, even during our sleep. We run because we’re trying to escape from our fear.\n",
            "\n",
            "We cannot enjoy life if we spend our time and energy worrying about what happened yesterday and what will happen tomorrow. If we’re afraid all the time, we miss out on the wonderful fact that we’re alive and can be happy right now. In everyday life, we tend to believe that happiness is only possible in the future. We’re always looking for the “right” conditions that we don’t yet have to make us happy. We ignore what is happening right in front of us. We look for something that will make us feel more solid, more safe, more secure. But we’re afraid all the time of what the future will bring—afraid we’ll lose our jobs, our possessions, the people around us whom we love. So we wait and hope for that magical moment—always sometime in the future—when everything will be as we want it to be. We forget that life is available only in the present moment. The Buddha said, “It is possible to live happily in the present moment. It is the only moment we have.”\n"
          ]
        }
      ]
    },
    {
      "cell_type": "code",
      "source": [
        "with open('print_example.txt', 'w') as fw:\n",
        "  print('Hey I am printing into a file!!!', file=fw)\n",
        "# Aqui vemos como se crea un archivo nuevo de nombre print_example.txt donde imprimimos en el la linea correspondiente"
      ],
      "metadata": {
        "id": "EPUd7rBhS7Kj"
      },
      "execution_count": null,
      "outputs": []
    },
    {
      "cell_type": "code",
      "source": [
        "with open('fear.txt') as f:\n",
        "  lines = [line.rstrip() for line in f]\n",
        "with open('fear_copy.txt', 'w') as fw:\n",
        "  fw.write('\\n'.join(lines))\n",
        "# En este se crea una copia del archivo original llamado fear_copy.txt"
      ],
      "metadata": {
        "id": "B1YgCoCgSYeM"
      },
      "execution_count": null,
      "outputs": []
    },
    {
      "cell_type": "code",
      "source": [
        "with open('example.bin', 'wb') as fw:\n",
        "  fw.write(b'This is binary data...')\n",
        "with open('example.bin', 'rb') as f:\n",
        "  print(f.read())\n",
        "# En este caso se crea Un archivo con contenido binario en el archivo example.bin"
      ],
      "metadata": {
        "colab": {
          "base_uri": "https://localhost:8080/"
        },
        "id": "QJY1YbHldGnR",
        "outputId": "be5c6cf7-9bfc-46c7-9ec2-70918003781d"
      },
      "execution_count": null,
      "outputs": [
        {
          "output_type": "stream",
          "name": "stdout",
          "text": [
            "b'This is binary data...'\n"
          ]
        }
      ]
    },
    {
      "cell_type": "code",
      "source": [
        "from pathlib import Path # importamos una libreria de pathlib para poder manipulas las direcciones de los archivos\n",
        "p = Path('fear.txt') # Le asignamos a una variable p la direccion del texto fear.txt\n",
        "path = p.parent.absolute()\n",
        "print(p.is_file()) # True\n",
        "print(path) # En nuestro caso al usar Colab, se crea una direccion /content por naturaleza de colab\n",
        "print(path.is_dir()) # True\n",
        "q = Path('/Users/fab/srv/lpp3e/ch08/files') # Se pregunta si el objeto se encuentra en la direccion aqui escrita\n",
        "print(q.is_dir()) # Al no estarlo, nos devuelve un valor False"
      ],
      "metadata": {
        "colab": {
          "base_uri": "https://localhost:8080/"
        },
        "id": "k5mXJnBDTZ8g",
        "outputId": "db099dd0-6809-4591-9c0f-dacd8d885059"
      },
      "execution_count": null,
      "outputs": [
        {
          "output_type": "stream",
          "name": "stdout",
          "text": [
            "True\n",
            "/content\n",
            "True\n",
            "False\n"
          ]
        }
      ]
    },
    {
      "cell_type": "code",
      "source": [
        "import json\n",
        "info = {\n",
        "  'full_name': 'Sherlock Holmes',\n",
        "  'address': {\n",
        "  'street': '221B Baker St',\n",
        "  'zip': 'NW1 6XE',\n",
        "  'city': 'London',\n",
        "  'country': 'UK',\n",
        "  }\n",
        "}\n",
        "print(json.dumps(info, indent=2, sort_keys=True))\n",
        "# Vemnos como es que se ve un archivo JSON"
      ],
      "metadata": {
        "colab": {
          "base_uri": "https://localhost:8080/"
        },
        "id": "-Vs-W85uUspc",
        "outputId": "db985ab4-2ed2-4d7e-cb09-3fc85cef3d22"
      },
      "execution_count": null,
      "outputs": [
        {
          "output_type": "stream",
          "name": "stdout",
          "text": [
            "{\n",
            "  \"address\": {\n",
            "    \"city\": \"London\",\n",
            "    \"country\": \"UK\",\n",
            "    \"street\": \"221B Baker St\",\n",
            "    \"zip\": \"NW1 6XE\"\n",
            "  },\n",
            "  \"full_name\": \"Sherlock Holmes\"\n",
            "}\n"
          ]
        }
      ]
    },
    {
      "cell_type": "code",
      "source": [
        "import io\n",
        "stream = io.StringIO()\n",
        "stream.write('Learning Python Programming.\\n')\n",
        "print('Become a Python ninja!', file=stream)\n",
        "contents = stream.getvalue()\n",
        "print(contents)\n",
        "stream.close()\n",
        "# En este caso se utiliza la In-memory en lugar de la memoria del disco, lo que la hace mucho mas rapida"
      ],
      "metadata": {
        "colab": {
          "base_uri": "https://localhost:8080/"
        },
        "id": "ou6hZ64uYMMW",
        "outputId": "081e9dbe-e811-4f28-ff9a-b8e9aac9ab58"
      },
      "execution_count": null,
      "outputs": [
        {
          "output_type": "stream",
          "name": "stdout",
          "text": [
            "Learning Python Programming.\n",
            "Become a Python ninja!\n",
            "\n"
          ]
        }
      ]
    },
    {
      "cell_type": "code",
      "source": [
        "import requests\n",
        "urls = {\n",
        "\"get\": \"https://httpbin.org/get?t=learn+python+programming\",\n",
        "\"headers\": \"https://httpbin.org/headers\",\n",
        "\"ip\": \"https://httpbin.org/ip\",\n",
        "\"user-agent\": \"https://httpbin.org/user-agent\",\n",
        "\"UUID\": \"https://httpbin.org/uuid\",\n",
        "\"JSON\": \"https://httpbin.org/json\",\n",
        "}\n",
        "def get_content(title, url):\n",
        "  resp = requests.get(url)\n",
        "  print(f\"Response for {title}\")\n",
        "  print(resp.json())\n",
        "for title, url in urls.items():\n",
        "  get_content(title, url)\n",
        "  print(\"-\" * 40)\n",
        "# Declaramos un diccionario de URL contra las cuales queremos realizar\n",
        "#  solicitudes HTTP. Hemos encapsulado el código que realiza la solicitud\n",
        "# en una pequeña función, get_content(). Como puede ver, realizamos una\n",
        "#  solicitud GET (usando request.get()) e imprimimos el título y la versión\n",
        "# decodificada JSON del cuerpo de la respuesta."
      ],
      "metadata": {
        "colab": {
          "base_uri": "https://localhost:8080/"
        },
        "id": "q-f2Y2byYtnt",
        "outputId": "4442e045-9ec8-466a-8e53-c1aa648880a2"
      },
      "execution_count": null,
      "outputs": [
        {
          "output_type": "stream",
          "name": "stdout",
          "text": [
            "Response for get\n",
            "{'args': {'t': 'learn python programming'}, 'headers': {'Accept': '*/*', 'Accept-Encoding': 'gzip, deflate', 'Host': 'httpbin.org', 'User-Agent': 'python-requests/2.31.0', 'X-Amzn-Trace-Id': 'Root=1-65078802-56a1da46487e8eba21b47f45'}, 'origin': '34.139.147.154', 'url': 'https://httpbin.org/get?t=learn+python+programming'}\n",
            "----------------------------------------\n",
            "Response for headers\n",
            "{'headers': {'Accept': '*/*', 'Accept-Encoding': 'gzip, deflate', 'Host': 'httpbin.org', 'User-Agent': 'python-requests/2.31.0', 'X-Amzn-Trace-Id': 'Root=1-65078802-3d479bc657a07c95424bfb8d'}}\n",
            "----------------------------------------\n",
            "Response for ip\n",
            "{'origin': '34.139.147.154'}\n",
            "----------------------------------------\n",
            "Response for user-agent\n",
            "{'user-agent': 'python-requests/2.31.0'}\n",
            "----------------------------------------\n",
            "Response for UUID\n",
            "{'uuid': 'ab158725-b96b-4426-b83d-c2fc27102bcf'}\n",
            "----------------------------------------\n",
            "Response for JSON\n",
            "{'slideshow': {'author': 'Yours Truly', 'date': 'date of publication', 'slides': [{'title': 'Wake up to WonderWidgets!', 'type': 'all'}, {'items': ['Why <em>WonderWidgets</em> are great', 'Who <em>buys</em> WonderWidgets'], 'title': 'Overview', 'type': 'all'}], 'title': 'Sample Slide Show'}}\n",
            "----------------------------------------\n"
          ]
        }
      ]
    },
    {
      "cell_type": "code",
      "source": [
        "import pickle\n",
        "from dataclasses import dataclass\n",
        "@dataclass\n",
        "class Person: # Declaramos una clase en este caso de person\n",
        "  first_name: str # Damos valores y clases que deben de encaja en estos first name string\n",
        "  last_name: str # last name string\n",
        "  id: int # ID siendo entero\n",
        "  def greet(self): # Declaramos una funcion de saludo\n",
        "    print(f'Hi, I am {self.first_name} {self.last_name}' # Creamos una estructura para el saludo\n",
        "    f' and my ID is {self.id}') # La que sera llenada posteriormente\n",
        "people = [\n",
        "    Person('Obi-Wan', 'Kenobi', 123), # Creamos un diccionario de personas, con los atributos correspondientes\n",
        "    Person('Anakin', 'Skywalker', 456),\n",
        "]\n",
        "# Guardamos la informacion en formato binario a un archivo\n",
        "with open('data.pickle', 'wb') as stream:\n",
        "  pickle.dump(people, stream)\n",
        "# Cargamos la informacion desde el archivo\n",
        "with open('data.pickle', 'rb') as stream:\n",
        "  peeps = pickle.load(stream)\n",
        "for person in peeps:\n",
        "  person.greet()"
      ],
      "metadata": {
        "colab": {
          "base_uri": "https://localhost:8080/"
        },
        "id": "CRoBqivca0gZ",
        "outputId": "57844a99-2f34-4d35-8688-933193ef366a"
      },
      "execution_count": null,
      "outputs": [
        {
          "output_type": "stream",
          "name": "stdout",
          "text": [
            "Hi, I am Obi-Wan Kenobi and my ID is 123\n",
            "Hi, I am Anakin Skywalker and my ID is 456\n"
          ]
        }
      ]
    },
    {
      "cell_type": "code",
      "source": [
        "import shelve\n",
        "class Person:\n",
        "  def __init__(self, name, id):\n",
        "    self.name = name\n",
        "    self.id = id\n",
        "\n",
        "with shelve.open('shelf1.shelve') as db:\n",
        "  db['obi1'] = Person('Obi-Wan', 123)\n",
        "  db['ani'] = Person('Anakin', 456)\n",
        "  db['a_list'] = [2, 3, 5]\n",
        "  db['delete_me'] = 'we will have to delete this one...'\n",
        "  print(list(db.keys())) # Se imprimen las claves, en este caso, \"a_list\", \"ani\", \"delete_me\", \"obi1\"\n",
        "\n",
        "  del db['delete_me'] # Se elimina la clave \"delete_me\"\n",
        "  print(list(db.keys())) # Se vuelven a imprimir las claves, en este caso, ['ani', 'a_list', 'obi1']\n",
        "  print('delete_me' in db) # Se busca por delete_me, al no estar salta el false\n",
        "  print('ani' in db) # Se busca por ani, al estar salta el True\n",
        "\n",
        "  a_list = db['a_list'] # Se asigna la a_lista la variable a_list\n",
        "  a_list.append(7) # Se le agrega a la lista el \"7\"\n",
        "  db['a_list'] = a_list\n",
        "  print(db['a_list']) # Se imprime la a_list = [2, 3, 5, 7]"
      ],
      "metadata": {
        "colab": {
          "base_uri": "https://localhost:8080/"
        },
        "id": "ju6b7AWScOwO",
        "outputId": "443edca5-09b6-49fb-ace6-9c700789facf"
      },
      "execution_count": null,
      "outputs": [
        {
          "output_type": "stream",
          "name": "stdout",
          "text": [
            "['a_list', 'ani', 'delete_me', 'obi1']\n",
            "['a_list', 'ani', 'obi1']\n",
            "False\n",
            "True\n",
            "[2, 3, 5, 7]\n"
          ]
        }
      ]
    }
  ]
}